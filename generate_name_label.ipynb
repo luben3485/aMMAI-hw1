{
 "cells": [
  {
   "cell_type": "code",
   "execution_count": 13,
   "id": "economic-constraint",
   "metadata": {},
   "outputs": [],
   "source": [
    "import os\n",
    "import glob\n",
    "\n",
    "use_folder = 'C'\n",
    "dataset_root = os.getcwd()\n",
    "dataset_dir = os.path.join(dataset_root, 'data')\n",
    "train_dir = os.path.join(dataset_dir, 'train')"
   ]
  },
  {
   "cell_type": "code",
   "execution_count": 14,
   "id": "distinguished-header",
   "metadata": {},
   "outputs": [
    {
     "name": "stdout",
     "output_type": "stream",
     "text": [
      "18085\n"
     ]
    }
   ],
   "source": [
    "result = glob.glob(os.path.join(train_dir, use_folder,'*.jpg'))\n",
    "print(len(result))"
   ]
  },
  {
   "cell_type": "code",
   "execution_count": 15,
   "id": "amazing-genesis",
   "metadata": {},
   "outputs": [
    {
     "name": "stdout",
     "output_type": "stream",
     "text": [
      "685\n"
     ]
    }
   ],
   "source": [
    "class_name_list = []\n",
    "for file_path in result:\n",
    "    file_name = os.path.basename(file_path)\n",
    "    class_name = file_name.split('_')[0]\n",
    "    if class_name not in class_name_list:\n",
    "        class_name_list.append(class_name)\n",
    "print(len(class_name_list))"
   ]
  },
  {
   "cell_type": "code",
   "execution_count": 16,
   "id": "original-collect",
   "metadata": {},
   "outputs": [
    {
     "name": "stdout",
     "output_type": "stream",
     "text": [
      "18085\n",
      "{'file_path': '/home/luben/aMMAI_HW1/data/train/C/何世柱_88.jpg', 'file_name': '何世柱_88.jpg', 'class_name': '何世柱', 'label': 78}\n"
     ]
    }
   ],
   "source": [
    "dataset = {}\n",
    "cnt = 0\n",
    "for file_path in result:\n",
    "    file_name = os.path.basename(file_path)\n",
    "    class_name = file_name.split('_')[0]\n",
    "    label = class_name_list.index(class_name)\n",
    "    info = {\n",
    "        'file_path' : file_path,\n",
    "        'file_name' : file_name,\n",
    "        'class_name' : class_name,\n",
    "        'label' : label\n",
    "    }\n",
    "    dataset[cnt] = info\n",
    "    cnt += 1 \n",
    "print(len(dataset))\n",
    "print(dataset[1886])"
   ]
  },
  {
   "cell_type": "code",
   "execution_count": 27,
   "id": "temporal-nursing",
   "metadata": {},
   "outputs": [],
   "source": [
    "import json\n",
    "with open(os.path.join(train_dir, 'annotation_' + use_folder + '.json'), 'w') as jsonfile: \n",
    "    json.dump(dataset, jsonfile)"
   ]
  },
  {
   "cell_type": "code",
   "execution_count": 31,
   "id": "ideal-package",
   "metadata": {},
   "outputs": [
    {
     "name": "stdout",
     "output_type": "stream",
     "text": [
      "18085\n",
      "{'file_path': '/home/luben/aMMAI_HW1/data/train/C/何世柱_88.jpg', 'file_name': '何世柱_88.jpg', 'class_name': '何世柱', 'label': 78}\n"
     ]
    }
   ],
   "source": [
    "with open(os.path.join(train_dir, 'annotation_' + use_folder + '.json')) as jsonfile:\n",
    "    #data = json.load(jsonfile)\n",
    "    # key: string -> integer\n",
    "    data = {int(k):v for k,v in json.load(jsonfile).items()}\n",
    "    \n",
    "print(len(data))\n",
    "print(data[1886])"
   ]
  },
  {
   "cell_type": "code",
   "execution_count": null,
   "id": "affected-parking",
   "metadata": {},
   "outputs": [],
   "source": [
    "\n",
    "    "
   ]
  },
  {
   "cell_type": "code",
   "execution_count": null,
   "id": "compliant-arabic",
   "metadata": {},
   "outputs": [],
   "source": []
  }
 ],
 "metadata": {
  "kernelspec": {
   "display_name": "Python 3",
   "language": "python",
   "name": "python3"
  },
  "language_info": {
   "codemirror_mode": {
    "name": "ipython",
    "version": 3
   },
   "file_extension": ".py",
   "mimetype": "text/x-python",
   "name": "python",
   "nbconvert_exporter": "python",
   "pygments_lexer": "ipython3",
   "version": "3.6.12"
  }
 },
 "nbformat": 4,
 "nbformat_minor": 5
}
